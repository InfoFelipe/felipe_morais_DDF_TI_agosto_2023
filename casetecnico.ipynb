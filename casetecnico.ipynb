{
 "cells": [
  {
   "cell_type": "markdown",
   "id": "d43d7602-ecf5-44c7-98fa-1d3f18ae894b",
   "metadata": {},
   "source": [
    "# Case Técnico"
   ]
  },
  {
   "cell_type": "markdown",
   "id": "9bf8f2b2-eb02-49bd-a1cf-eee96c1572d0",
   "metadata": {},
   "source": [
    "### 1. O processo de análise de dados para rastrear a satisfação do cliente e  a eficiência da equipe de suporte será executado da seguinte maneira:\n",
    "* #### Métricas de NPS juntamente com o processo de análise da satisfação do cliente, pois são rápidas de serem respondidas pelo cliente e fáceis de serem rastreadas pela empresa.\n",
    "* #### Métrica de representação da taxa de rotatividade do cliente, apresentando a porcentagem de clientes que deixaram a empresa em um determinado momento e, com isso, levantar diagnósticos que possam explicar a baixa de clientes e apresentar possíveis intervenções que possam resolver os problemas de evasões no futuro. \n",
    "* #### Análise de sentimento utilizando Inteligência Artificial, onde contribui para gerar insights por meio de avaliações de comentários, posts, curtidas e reações diante do produto empresarial. \n",
    "\n",
    "### Depois das métricas aplicadas e os dados capturados, é fundamental realizar a análise descritiva dos dados para gerar relatórios, segmentação de clientes e análise de negócios para aplicar e proporcionar construções de estratégias efetivas para o ambiente empresarial.\n",
    "\n",
    "### No processo de coleta de dados, utilizando ferramentas de service Desk, dando ênfase no chatBot e na automação de disparo de mensagens e emails, iria utilizar dados referentes a resolução de problemas mediante o nível de complexidade resolvidos pelo chatBot, sem a necessidade de um atendimento humano e o nível de satisfação do cliente com uso da tecnologia. E no que se refere ao disparo de mensagens e emails, a quantidade de clientes que interagiram com a empresa depois que foram utilizados esses serviços. \n"
   ]
  },
  {
   "cell_type": "markdown",
   "id": "90757050-6b69-4d70-8c5d-9ea094537867",
   "metadata": {},
   "source": [
    "### 3. Diante do crescimento da utilização de algoritmos de Inteligência Artificial para resolução de problemas, dando foco aos processos empresariais, no ambiente de gestão de acesso o que indico para a empresa é continuar no processo de investimento em tecnologias (softwares) que utilizam algoritmos de IA para prevenção de fraudes e análise de veracidade humana com processos de verificação e autorização pautados em robustez e eficiência. "
   ]
  },
  {
   "cell_type": "markdown",
   "id": "0d9edb86-71d5-4924-b3d6-fe70a4bd00fd",
   "metadata": {},
   "source": [
    "### 5. \n",
    "##### Observação: as variáveis name_user e date_cadastro foram atribuídas por mim para dar consistência ao processo do desenvolvimento do ambiente para a consulta sql.\n",
    "``` sql \n",
    "select user_emails.name_user\n",
    "from user_emails \n",
    "where CAST(user_emails.date_cadastro as date) between CAST(dateadd(day, -30, getdate()) as date) and CAST(getdate() as date)\n",
    "```"
   ]
  },
  {
   "cell_type": "markdown",
   "id": "20634800-2167-4317-81b5-481be72d3a20",
   "metadata": {},
   "source": [
    "### Explicação:\n",
    "### 1. \n",
    "``` sql\n",
    "select user_emails.name_user\n",
    "```\n",
    "* #### select: Comando da linguagem sql para selecionar e exibir um determinado elemento da consulta.\n",
    "* #### user_emails.name_user: Passagem de parâmetro para o elemento selecionado, no caso apresenta o nome da tabela user_emails e coluna name_user.\n",
    "#### Pode-se concluir que o comando irá selecionar o nome do usuário.\n",
    "\n",
    "\n",
    "    "
   ]
  },
  {
   "cell_type": "markdown",
   "id": "fdeaf9a0-0505-4eeb-a3c2-f9273c9e2fb7",
   "metadata": {},
   "source": [
    "### 2. \n",
    "```sql\n",
    "from user_emails \n",
    "```\n",
    "\n",
    "#### O comando from estipula a tabela user_emails onde serão selecionados os dados da coluna, no caso, a coluna name_user.\n"
   ]
  },
  {
   "cell_type": "markdown",
   "id": "7ba06e75-d0b8-457c-a1cd-1f5e5a0e4180",
   "metadata": {},
   "source": [
    "### 3.\n",
    "\n",
    "``` sql \n",
    "where CAST(user_emails.date_cadastro as date) between CAST(dateadd(day, -30, getdate()) as date) and CAST(getdate() as date)\n",
    "```\n",
    "* #### O comando where é usado para limitar o número de linhas retornadas em uma instrução na consulta dos dados.\n",
    "* ####  A função CAST converte data e hora para somente data.\n",
    "* #### O termo as renomeia a coluna, é um alias. Só existe durante a consulta.\n",
    "* #### O operador lógico between estipula a faixa de valores na consulta, retorna o que há entre as datas.\n",
    "* #### A função getdate() pega a data atual do sistema.\n",
    "* #### A função dateadd() calcula a diferença entre datas; dateadd(day, -30, getdate()).\n",
    "\n",
    "#### Com isso temos a cláusula where que apresenta os filtros de linha da data e hora de cadastro convertida para somente data. O operador lógico between, na data e hora inicial ou data e hora atual menos 30 dias, convertido para somente data. A função dateadd(day, -30, getdate()) para calcular a diferença entre datas referente ao parametro de 30 dias. O termo and juntamente com a função getdate(), até o dia atual, convertido data e hora para somente data gerando a consulta dos nomes cadastrados no últimos 30 dias. \n"
   ]
  },
  {
   "cell_type": "code",
   "execution_count": null,
   "id": "ced23ef9-c92b-48fb-b6a8-148b1af7baa4",
   "metadata": {},
   "outputs": [],
   "source": []
  }
 ],
 "metadata": {
  "kernelspec": {
   "display_name": "Python 3 (ipykernel)",
   "language": "python",
   "name": "python3"
  },
  "language_info": {
   "codemirror_mode": {
    "name": "ipython",
    "version": 3
   },
   "file_extension": ".py",
   "mimetype": "text/x-python",
   "name": "python",
   "nbconvert_exporter": "python",
   "pygments_lexer": "ipython3",
   "version": "3.10.9"
  }
 },
 "nbformat": 4,
 "nbformat_minor": 5
}
